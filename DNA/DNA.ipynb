{
 "cells": [
  {
   "cell_type": "code",
   "execution_count": null,
   "metadata": {},
   "outputs": [],
   "source": [
    "f = 'AGCTTTTCATTCTGACTGCAACGGGCAATATGTCTCTGTGTGGATTAAAAAAAGAGTGTCTGATAGCAGC'\n",
    "def counter(f):\n",
    "    A=0\n",
    "    T=0\n",
    "    C=0\n",
    "    G=0\n",
    "    for letter in f:\n",
    "        if letter == 'A':\n",
    "            A+=1\n",
    "        if letter == 'T':\n",
    "            T+=1\n",
    "        if letter == 'C':\n",
    "            C+=1\n",
    "        if letter == 'G':\n",
    "            G+=1\n",
    "    return A, T, C, G\n",
    "\n",
    "counter(f)"
   ]
  }
 ],
 "metadata": {
  "language_info": {
   "name": "python"
  }
 },
 "nbformat": 4,
 "nbformat_minor": 2
}
