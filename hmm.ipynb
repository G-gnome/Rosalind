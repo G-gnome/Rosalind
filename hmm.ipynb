{
 "cells": [
  {
   "cell_type": "markdown",
   "metadata": {},
   "source": [
    "# Probability of a Hidden Path Problem\n"
   ]
  },
  {
   "cell_type": "code",
   "execution_count": 22,
   "metadata": {},
   "outputs": [
    {
     "data": {
      "text/plain": [
       "1.5360000000000002e-05"
      ]
     },
     "execution_count": 22,
     "metadata": {},
     "output_type": "execute_result"
    }
   ],
   "source": [
    "path = 'XYZYZZXXYY'\n",
    "states = ['X', 'Y', 'Z']\n",
    "transition_matrix = [\n",
    "    [0.2, 0.6, 0.2],  # From X\n",
    "    [0.3, 0.5, 0.2],  # From Y\n",
    "    [0.4, 0.4, 0.2]   # From Z\n",
    "]\n",
    "# define function for getting probability of a given path\n",
    "def get_probability(path, states, transition_matrix):\n",
    "    n=len(states) # initial probabilities are all equally likely\n",
    "    probability=1/n \n",
    "    index_states={state: i for i, state in enumerate(states)}  # index states, generate dict based on index\n",
    "    for i in range(1, len(path)): # iterate over every letter in path\n",
    "        previous_state=(path[i-1]) # previous state in path, returns character\n",
    "        current_state=(path[i]) # current state in path, returns character\n",
    "        previous_index=index_states[previous_state] # Use previous character to get index\n",
    "        current_index=index_states[current_state] # Use previous character to get index\n",
    "        probability*=transition_matrix[previous_index][current_index] # get probability of transition between characters\n",
    "    return probability\n",
    "\n",
    "get_probability(path, states, transition_matrix)\n"
   ]
  },
  {
   "cell_type": "markdown",
   "metadata": {},
   "source": [
    "# Compute the Probability of an Outcome Given a Hidden Path"
   ]
  },
  {
   "cell_type": "code",
   "execution_count": 7,
   "metadata": {},
   "outputs": [
    {
     "data": {
      "text/plain": [
       "1.9315707089321372e-28"
      ]
     },
     "execution_count": 7,
     "metadata": {},
     "output_type": "execute_result"
    }
   ],
   "source": [
    "x = 'xxyzyxzzxzxyxyyzxxzzxxyyxxyxyzzxxyzyzxzxxyxyyzxxzx'\n",
    "Σ = ['x', 'y', 'z']\n",
    "π = 'BBBAAABABABBBBBBAAAAAABAAAABABABBBBBABAABABABABBBB'\n",
    "states = ['A', 'B']\n",
    "probability_matrix = [\n",
    "    [0.612, 0.314, 0.074],\n",
    "    [0.346, 0.317, 0.336]\n",
    "]\n",
    "\n",
    "def outcome_probability(x, Σ, π, states, probability_matrix):\n",
    "    index_states={state: i for i, state in enumerate(states)}\n",
    "    index_Σ={letter: i for i, letter in enumerate(Σ)}\n",
    "    probability=1\n",
    "    for i in range(len(π)): # iterate over every letter in path\n",
    "        hidden_state=(π[i]) # current state in path, returns character\n",
    "        emmitted_state=(x[i])\n",
    "        hidden_index=index_states[hidden_state] # Use previous character to get index\n",
    "        emmitted_index=index_Σ[emmitted_state] # Use previous character to get index\n",
    "        probability*=probability_matrix[hidden_index][emmitted_index] # get probability of transition between characters\n",
    "    return probability\n",
    "    \n",
    "outcome_probability(x, Σ, π, states, probability_matrix)"
   ]
  },
  {
   "cell_type": "markdown",
   "metadata": {},
   "source": [
    "# Implement the Viterbi Algorithm"
   ]
  },
  {
   "cell_type": "code",
   "execution_count": 40,
   "metadata": {},
   "outputs": [
    {
     "data": {
      "text/plain": [
       "array([[5.85000000e-02, 4.85000000e-02],\n",
       "       [2.59114635e-02, 8.82063000e-03],\n",
       "       [1.94328203e-03, 9.02314893e-04],\n",
       "       [2.39163606e-04, 3.36959274e-04],\n",
       "       [4.71635156e-05, 4.41056102e-05],\n",
       "       [3.76189981e-06, 1.64237511e-06],\n",
       "       [1.66626205e-06, 5.67219254e-07],\n",
       "       [1.24964655e-07, 5.80242432e-08],\n",
       "       [5.53507195e-08, 1.88421706e-08],\n",
       "       [2.45165495e-08, 8.34578148e-09]])"
      ]
     },
     "execution_count": 40,
     "metadata": {},
     "output_type": "execute_result"
    }
   ],
   "source": [
    "import numpy as np\n",
    "x = 'xyxzzxyxyy'\n",
    "Σ = ['x', 'y', 'z']\n",
    "states = ['A', 'B']\n",
    "transition = np.array([\n",
    "    [0.641, 0.359],\n",
    "    [0.729, 0.271]\n",
    "])\n",
    "emission = np.array([\n",
    "    [0.117, 0.691, 0.192],\n",
    "    [0.097, 0.42, 0.483]\n",
    "])\n",
    "\n",
    "\n",
    "def viterbi(x, Σ, states, transition, emission):\n",
    "    n=len(states)\n",
    "    p_init = 1/n\n",
    "    len_Σ=len(Σ)\n",
    "    len_x=len(x)\n",
    "    array = np.zeros((len_x, n))\n",
    "    array_int = np.zeros((len_x, n), dtype=int)\n",
    "    index_Σ={letter: i for i, letter in enumerate(Σ)}\n",
    "    #initialization\n",
    "    for state in range(n):\n",
    "        index=index_Σ[x[0]]\n",
    "        array[0][state] = p_init*emission[state][index]\n",
    "    # recursion\n",
    "    for i in range(1, len(x)):\n",
    "        obs_index = index_Σ[x[i]]\n",
    "        for char in range(n):\n",
    "            array[i, char] = np.max(array[i-1] * transition[:, char]) * emission[char, obs_index]\n",
    "            array_int[i, char] = np.argmax(array[i-1] * transition[:, char])\n",
    "    return array\n",
    "viterbi(x, Σ, states, transition, emission)"
   ]
  },
  {
   "cell_type": "code",
   "execution_count": null,
   "metadata": {},
   "outputs": [],
   "source": []
  }
 ],
 "metadata": {
  "kernelspec": {
   "display_name": "Python 3",
   "language": "python",
   "name": "python3"
  },
  "language_info": {
   "codemirror_mode": {
    "name": "ipython",
    "version": 3
   },
   "file_extension": ".py",
   "mimetype": "text/x-python",
   "name": "python",
   "nbconvert_exporter": "python",
   "pygments_lexer": "ipython3",
   "version": "3.10.8"
  }
 },
 "nbformat": 4,
 "nbformat_minor": 2
}
