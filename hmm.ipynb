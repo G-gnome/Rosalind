{
 "cells": [
  {
   "cell_type": "markdown",
   "metadata": {},
   "source": [
    "# Probability of a Hidden Path Problem\n"
   ]
  },
  {
   "cell_type": "code",
   "execution_count": 22,
   "metadata": {},
   "outputs": [
    {
     "data": {
      "text/plain": [
       "1.5360000000000002e-05"
      ]
     },
     "execution_count": 22,
     "metadata": {},
     "output_type": "execute_result"
    }
   ],
   "source": [
    "path = 'XYZYZZXXYY'\n",
    "states = ['X', 'Y', 'Z']\n",
    "transition_matrix = [\n",
    "    [0.2, 0.6, 0.2],  # From X\n",
    "    [0.3, 0.5, 0.2],  # From Y\n",
    "    [0.4, 0.4, 0.2]   # From Z\n",
    "]\n",
    "# define function for getting probability of a given path\n",
    "def get_probability(path, states, transition_matrix):\n",
    "    n=len(states) # initial probabilities are all equally likely\n",
    "    probability=1/n \n",
    "    index_states={state: i for i, state in enumerate(states)}  # index states, generate dict based on index\n",
    "    for i in range(1, len(path)): # iterate over every letter in path\n",
    "        previous_state=(path[i-1]) # previous state in path, returns character\n",
    "        current_state=(path[i]) # current state in path, returns character\n",
    "        previous_index=index_states[previous_state] # Use previous character to get index\n",
    "        current_index=index_states[current_state] # Use previous character to get index\n",
    "        probability*=transition_matrix[previous_index][current_index] # get probability of transition between characters\n",
    "    return probability\n",
    "\n",
    "get_probability(path, states, transition_matrix)\n"
   ]
  }
 ],
 "metadata": {
  "kernelspec": {
   "display_name": "Python 3",
   "language": "python",
   "name": "python3"
  },
  "language_info": {
   "codemirror_mode": {
    "name": "ipython",
    "version": 3
   },
   "file_extension": ".py",
   "mimetype": "text/x-python",
   "name": "python",
   "nbconvert_exporter": "python",
   "pygments_lexer": "ipython3",
   "version": "3.10.8"
  }
 },
 "nbformat": 4,
 "nbformat_minor": 2
}
